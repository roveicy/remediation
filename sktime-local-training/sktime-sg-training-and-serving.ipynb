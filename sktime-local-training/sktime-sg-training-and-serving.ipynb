{
 "cells": [
  {
   "cell_type": "code",
   "execution_count": null,
   "metadata": {},
   "outputs": [],
   "source": [
    "%pip install sagemaker boto3 pandas scikit-learn scipy matplotlib sktime==0.14.0 seaborn"
   ]
  },
  {
   "cell_type": "code",
   "execution_count": 242,
   "metadata": {},
   "outputs": [],
   "source": [
    "import pandas as pd \n",
    "import sagemaker\n",
    "from sagemaker.serializers import NumpySerializer\n",
    "from sktime.datasets import load_from_tsfile_to_dataframe\n",
    "from sagemaker.sklearn import SKLearn\n"
   ]
  },
  {
   "cell_type": "code",
   "execution_count": 243,
   "metadata": {},
   "outputs": [],
   "source": [
    "prefix = 'itc-timeseries'\n",
    "train_data = 's3://sagemaker-us-east-1-170802245450/itc-timeseries/train/train.ts'\n",
    "test_data = 's3://sagemaker-us-east-1-170802245450/itc-timeseries/test/test.ts'\n",
    "role = 'arn:aws:iam::170802245450:role/service-role/AmazonSageMaker-ExecutionRole-20221013T155418'\n",
    "bucket = 'sagemaker-us-east-1-170802245450'\n",
    "output = 's3://{}/{}/output/'.format(bucket, prefix)"
   ]
  },
  {
   "cell_type": "code",
   "execution_count": 244,
   "metadata": {},
   "outputs": [],
   "source": [
    "def GetTrainingJobAnalytics(training_job_name):\n",
    "    from sagemaker.analytics import TrainingJobAnalytics\n",
    "    result = TrainingJobAnalytics(training_job_name).dataframe().drop(columns='timestamp').set_index('metric_name').T.reset_index(drop=True).round(decimals=5)\n",
    "    result.columns.names = ['']\n",
    "    result.insert(0, column='job_name', value=[training_job_name])\n",
    "    return result"
   ]
  },
  {
   "cell_type": "code",
   "execution_count": 245,
   "metadata": {},
   "outputs": [],
   "source": [
    "def GetInProgressOrStopping():\n",
    "    training_jobs_in_progress = sagemaker_session.list_training_jobs(\n",
    "        MaxResults=10,\n",
    "        StatusEquals='InProgress'\n",
    "    )\n",
    "\n",
    "    training_jobs_stopping = sagemaker_session.list_training_jobs(\n",
    "        MaxResults=10,\n",
    "        StatusEquals='Stopping'\n",
    "    )\n",
    "\n",
    "    return len(training_jobs_in_progress[\"TrainingJobSummaries\"]) + len(training_jobs_stopping[\"TrainingJobSummaries\"])"
   ]
  },
  {
   "cell_type": "code",
   "execution_count": 246,
   "metadata": {},
   "outputs": [],
   "source": [
    "import boto3\n",
    "import json\n",
    "from time import sleep \n",
    "sagemaker_session = boto3.client('sagemaker')"
   ]
  },
  {
   "cell_type": "code",
   "execution_count": 298,
   "metadata": {},
   "outputs": [],
   "source": [
    "#List of algorithms to run\n",
    "job_spec = pd.DataFrame([\n",
    "    {'algorithm': 'ROCKET', 'category': 'kernel-based', 'script': 'sktime_train_script_rocket.py'},\n",
    "    {'algorithm': 'Arsenal', 'category': 'kernel-based', 'script': 'sktime_train_script_arsenal.py'},\n",
    "    {'algorithm': 'TimeSeriesForestClassifier', 'category': 'interval-based', 'script': 'sktime_train_script_tsfc.py'},\n",
    "    {'algorithm': 'Catch22', 'category': 'feature-based', 'script': 'sktime_train_script_catch22.py'},\n",
    "    {'algorithm': 'TSFreshClassifier', 'category': 'feature-based', 'script': 'sktime_train_script_tsfresh.py'},\n",
    "    {'algorithm': 'FreshPRINCE', 'category': 'feature-based', 'script': 'sktime_train_script_freshprince.py'}\n",
    "])\n",
    "\n",
    "metric_definitions = [\n",
    "                    {'Name': 'pred_time_per_sample', 'Regex':'PredTimePerSample=(.*)'},\n",
    "                    {'Name': 'accuracy', 'Regex':'Accuracy=(.*)'},\n",
    "                    {'Name': 'precision', 'Regex':'Precision=(.*)'},\n",
    "                    {'Name': 'recall', 'Regex':'Recall=(.*)'},\n",
    "                    {'Name': 'f1', 'Regex':'F1=(.*)'},\n",
    "                   ]\n"
   ]
  },
  {
   "cell_type": "code",
   "execution_count": 300,
   "metadata": {},
   "outputs": [
    {
     "data": {
      "text/html": [
       "<div>\n",
       "<style scoped>\n",
       "    .dataframe tbody tr th:only-of-type {\n",
       "        vertical-align: middle;\n",
       "    }\n",
       "\n",
       "    .dataframe tbody tr th {\n",
       "        vertical-align: top;\n",
       "    }\n",
       "\n",
       "    .dataframe thead th {\n",
       "        text-align: right;\n",
       "    }\n",
       "</style>\n",
       "<table border=\"1\" class=\"dataframe\">\n",
       "  <thead>\n",
       "    <tr style=\"text-align: right;\">\n",
       "      <th></th>\n",
       "      <th>algorithm</th>\n",
       "      <th>category</th>\n",
       "      <th>script</th>\n",
       "    </tr>\n",
       "  </thead>\n",
       "  <tbody>\n",
       "    <tr>\n",
       "      <th>4</th>\n",
       "      <td>TSFreshClassifier</td>\n",
       "      <td>feature-based</td>\n",
       "      <td>sktime_train_script_tsfresh.py</td>\n",
       "    </tr>\n",
       "    <tr>\n",
       "      <th>5</th>\n",
       "      <td>FreshPRINCE</td>\n",
       "      <td>feature-based</td>\n",
       "      <td>sktime_train_script_freshprince.py</td>\n",
       "    </tr>\n",
       "  </tbody>\n",
       "</table>\n",
       "</div>"
      ],
      "text/plain": [
       "           algorithm       category                              script\n",
       "4  TSFreshClassifier  feature-based      sktime_train_script_tsfresh.py\n",
       "5        FreshPRINCE  feature-based  sktime_train_script_freshprince.py"
      ]
     },
     "execution_count": 300,
     "metadata": {},
     "output_type": "execute_result"
    }
   ],
   "source": [
    "#Automatic job runner\n",
    "job_limit = 4\n",
    "job_spec_selected = job_spec[(job_spec[\"category\"] == 'feature-based') & (job_spec[\"algorithm\"] != \"Catch22\")]\n",
    "job_spec_selected"
   ]
  },
  {
   "cell_type": "code",
   "execution_count": 301,
   "metadata": {},
   "outputs": [
    {
     "name": "stdout",
     "output_type": "stream",
     "text": [
      "Starting model training...TSFreshClassifier\n",
      "Job started...TSFreshClassifier-2022-11-14-20-30-17-060\n",
      "Starting model training...FreshPRINCE\n",
      "Job started...FreshPRINCE-2022-11-14-20-30-17-796\n"
     ]
    }
   ],
   "source": [
    "\n",
    "jobs = []\n",
    "for i,job in job_spec_selected.iterrows():\n",
    "\n",
    "    quota_used = GetInProgressOrStopping()\n",
    "    #Block when job_limit is reached\n",
    "    while quota_used >= job_limit:\n",
    "        print(\"Reached job limit. Retrying in 60 seconds...\")\n",
    "        sleep(60)\n",
    "        quota_used = GetInProgressOrStopping()\n",
    "\n",
    "    print(f'Starting model training...{job[\"algorithm\"]}')\n",
    "    sk_model = SKLearn(entry_point=job[\"script\"],\n",
    "                framework_version='0.23-1',\n",
    "                instance_type='ml.m5.4xlarge',\n",
    "                role=role,\n",
    "                output_path=output,\n",
    "                base_job_name=job[\"algorithm\"],\n",
    "                source_dir='code',\n",
    "                script_mode=True,\n",
    "                use_spot_instances=True,\n",
    "                max_run = 3600,\n",
    "                max_wait =7200,\n",
    "                metric_definitions=metric_definitions)\n",
    "\n",
    "    sk_model.fit({'train': train_data,\n",
    "              'test': test_data}, wait=False)\n",
    "\n",
    "    jobs.append(sk_model._current_job_name)\n",
    "    print(f'Job started...{sk_model._current_job_name}')\n"
   ]
  },
  {
   "cell_type": "code",
   "execution_count": 269,
   "metadata": {},
   "outputs": [],
   "source": [
    "#Create results dataframe\n",
    "results_dict = { 'job_name': pd.Series(dtype='str'),\n",
    "                            'pred_time_per_sample': pd.Series(dtype='float64'),\n",
    "                            'accuracy': pd.Series(dtype='float64'),\n",
    "                            'precision': pd.Series(dtype='float64'),\n",
    "                            'recall': pd.Series(dtype='float64'),\n",
    "                            'f1': pd.Series(dtype='float64'),\n",
    "                            'cohens': pd.Series(dtype='float64')}"
   ]
  },
  {
   "cell_type": "code",
   "execution_count": 281,
   "metadata": {},
   "outputs": [
    {
     "data": {
      "text/html": [
       "<div>\n",
       "<style scoped>\n",
       "    .dataframe tbody tr th:only-of-type {\n",
       "        vertical-align: middle;\n",
       "    }\n",
       "\n",
       "    .dataframe tbody tr th {\n",
       "        vertical-align: top;\n",
       "    }\n",
       "\n",
       "    .dataframe thead th {\n",
       "        text-align: right;\n",
       "    }\n",
       "</style>\n",
       "<table border=\"1\" class=\"dataframe\">\n",
       "  <thead>\n",
       "    <tr style=\"text-align: right;\">\n",
       "      <th></th>\n",
       "      <th>job_name</th>\n",
       "      <th>pred_time_per_sample</th>\n",
       "      <th>accuracy</th>\n",
       "      <th>precision</th>\n",
       "      <th>recall</th>\n",
       "      <th>f1</th>\n",
       "      <th>cohens</th>\n",
       "    </tr>\n",
       "  </thead>\n",
       "  <tbody>\n",
       "    <tr>\n",
       "      <th>0</th>\n",
       "      <td>Catch22-2022-11-14-19-40-13-195</td>\n",
       "      <td>0.01305</td>\n",
       "      <td>0.63000</td>\n",
       "      <td>0.35374</td>\n",
       "      <td>0.76471</td>\n",
       "      <td>0.48372</td>\n",
       "      <td>NaN</td>\n",
       "    </tr>\n",
       "    <tr>\n",
       "      <th>0</th>\n",
       "      <td>TimeSeriesForestClassifier-2022-11-14-19-40-14...</td>\n",
       "      <td>0.00687</td>\n",
       "      <td>0.57000</td>\n",
       "      <td>0.34518</td>\n",
       "      <td>1.00000</td>\n",
       "      <td>0.51321</td>\n",
       "      <td>NaN</td>\n",
       "    </tr>\n",
       "    <tr>\n",
       "      <th>0</th>\n",
       "      <td>Arsenal-2022-11-14-19-40-09-400</td>\n",
       "      <td>0.03338</td>\n",
       "      <td>0.49667</td>\n",
       "      <td>0.31050</td>\n",
       "      <td>1.00000</td>\n",
       "      <td>0.47387</td>\n",
       "      <td>NaN</td>\n",
       "    </tr>\n",
       "    <tr>\n",
       "      <th>0</th>\n",
       "      <td>ROCKET-2022-11-14-19-40-08-697</td>\n",
       "      <td>0.07417</td>\n",
       "      <td>0.46000</td>\n",
       "      <td>0.28636</td>\n",
       "      <td>0.92647</td>\n",
       "      <td>0.43750</td>\n",
       "      <td>NaN</td>\n",
       "    </tr>\n",
       "  </tbody>\n",
       "</table>\n",
       "</div>"
      ],
      "text/plain": [
       "                                            job_name  pred_time_per_sample  \\\n",
       "0                    Catch22-2022-11-14-19-40-13-195               0.01305   \n",
       "0  TimeSeriesForestClassifier-2022-11-14-19-40-14...               0.00687   \n",
       "0                    Arsenal-2022-11-14-19-40-09-400               0.03338   \n",
       "0                     ROCKET-2022-11-14-19-40-08-697               0.07417   \n",
       "\n",
       "   accuracy  precision   recall       f1  cohens  \n",
       "0   0.63000    0.35374  0.76471  0.48372     NaN  \n",
       "0   0.57000    0.34518  1.00000  0.51321     NaN  \n",
       "0   0.49667    0.31050  1.00000  0.47387     NaN  \n",
       "0   0.46000    0.28636  0.92647  0.43750     NaN  "
      ]
     },
     "execution_count": 281,
     "metadata": {},
     "output_type": "execute_result"
    }
   ],
   "source": [
    "#Retrieve data\n",
    "job_list = pd.DataFrame(sagemaker_session.list_training_jobs(MaxResults=10)[\"TrainingJobSummaries\"])\n",
    "completed_jobs = job_list[job_list[\"TrainingJobName\"].isin(jobs)]\n",
    "\n",
    "results_df = pd.DataFrame(results_dict)\n",
    "for i,job in completed_jobs.iterrows():\n",
    "    results_df = pd.concat([results_df,GetTrainingJobAnalytics(job.TrainingJobName)])\n",
    "\n",
    "results_df.sort_values(\"precision\", ascending=False)"
   ]
  },
  {
   "cell_type": "code",
   "execution_count": 20,
   "metadata": {},
   "outputs": [],
   "source": [
    "# Deploy after model selection\n",
    "\n",
    "predictor = sk_model.deploy(initial_instance_count=1,\n",
    "                instance_type=\"ml.c6g.4xlarge\",\n",
    "                endpoint_name=\"skrocket-4x\",\n",
    "                serializer=NumpySerializer(), \n",
    "                wait=False)"
   ]
  },
  {
   "cell_type": "code",
   "execution_count": null,
   "metadata": {},
   "outputs": [],
   "source": [
    "# X_test_frame = X_test.tail(1).dim_0.to_numpy()\n",
    "\n",
    "# y_predict = predictor.predict(X_test_frame)\n",
    "\n",
    "# print(y_predict)\n",
    "\n",
    "y_predict = []\n",
    "for i,data in X_test.iterrows():\n",
    "    frame = data.to_numpy()\n",
    "    prediction = predictor.predict(frame)[0]\n",
    "    y_predict.append(prediction)\n",
    "    print(prediction)\n",
    "\n",
    "print(y_predict)"
   ]
  },
  {
   "cell_type": "code",
   "execution_count": 28,
   "metadata": {},
   "outputs": [],
   "source": [
    "import seaborn as sns\n",
    "import matplotlib.pyplot as plt"
   ]
  },
  {
   "cell_type": "code",
   "execution_count": 36,
   "metadata": {},
   "outputs": [
    {
     "data": {
      "image/png": "[encoded data removed]",
      "text/plain": [
       "<Figure size 640x480 with 1 Axes>"
      ]
     },
     "metadata": {},
     "output_type": "display_data"
    }
   ],
   "source": [
    "plt.ylim(2,0)\n",
    "sns.lineplot(y_predict)\n",
    "plt.show()"
   ]
  },
  {
   "cell_type": "code",
   "execution_count": null,
   "metadata": {},
   "outputs": [],
   "source": []
  }
 ],
 "metadata": {
  "kernelspec": {
   "display_name": "Python 3 (ipykernel)",
   "language": "python",
   "name": "python3"
  },
  "language_info": {
   "codemirror_mode": {
    "name": "ipython",
    "version": 3
   },
   "file_extension": ".py",
   "mimetype": "text/x-python",
   "name": "python",
   "nbconvert_exporter": "python",
   "pygments_lexer": "ipython3",
   "version": "3.9.6"
  },
  "orig_nbformat": 4
 },
 "nbformat": 4,
 "nbformat_minor": 2
}
